{
 "cells": [
  {
   "cell_type": "markdown",
   "id": "8cc8f872",
   "metadata": {},
   "source": [
    "# Student alcohol consumption EDA\n",
    "- Some exploratory data analysis to find out if socio-economic, bad choises and other factors influence school grades from this gold [kaggle-data-set](https://www.kaggle.com/datasets/uciml/student-alcohol-consumption)\n",
    "\n",
    "i want to find the answer to these questions:\n",
<<<<<<< HEAD
    "1. Does weekday drinking hurt grades more than weekend drinking?\n",
=======
    "1. Do students that travel longer to school do better at school and consume less alchohol?\n",
>>>>>>> 1e85f32b857a8d8a1f30dce672c51418c4fa08a3
    "2. Do students with lower_edu/poorer parents do worse or better at school and consume less alchohol?\n",
    "3. Do students that have a romantic relationship do worse at school?\n",
    "4. Does student school absence equal worse grades?\n",
    "5. Does family size influence school grades and alchohol consumption?\n",
    "6. Do gifted kids (low study hours high grades) do better at school than hard working students (high study hours, high grades) \n",
    "\n",
    "---\n",
    "Lets start with importing"
   ]
  },
  {
   "cell_type": "code",
<<<<<<< HEAD
   "execution_count": 16,
=======
   "execution_count": 1,
>>>>>>> 1e85f32b857a8d8a1f30dce672c51418c4fa08a3
   "id": "9b2fa1f8",
   "metadata": {},
   "outputs": [],
   "source": [
    "import numpy as np\n",
    "import pandas as pd"
   ]
  },
  {
   "cell_type": "code",
<<<<<<< HEAD
   "execution_count": 17,
=======
   "execution_count": 2,
>>>>>>> 1e85f32b857a8d8a1f30dce672c51418c4fa08a3
   "id": "200716cb",
   "metadata": {},
   "outputs": [],
   "source": [
    "import matplotlib.pyplot as plt\n",
    "import seaborn as sns\n",
    "%matplotlib inline\n",
    "\n",
    "sns.set_style('whitegrid')\n",
    "\n",
    "plt.rcParams['figure.figsize'] = (6, 4)\n"
   ]
  },
  {
   "cell_type": "markdown",
   "id": "bd86f739",
   "metadata": {},
   "source": [
    "We have 2 datasets math grades and portugees grades. I chose the dataset of Math grades because math is harder to get a good score on without learning compared to languague course"
   ]
  },
  {
   "cell_type": "code",
   "execution_count": 3,
   "id": "2ca12305",
   "metadata": {},
   "outputs": [],
   "source": [
    "df = pd.read_csv('data/archive/student-mat.csv')"
   ]
  },
  {
   "cell_type": "code",
   "execution_count": 4,
   "id": "44e40c25",
   "metadata": {},
   "outputs": [
    {
     "name": "stdout",
     "output_type": "stream",
     "text": [
      "<class 'pandas.core.frame.DataFrame'>\n",
      "RangeIndex: 395 entries, 0 to 394\n",
      "Data columns (total 33 columns):\n",
      " #   Column      Non-Null Count  Dtype \n",
      "---  ------      --------------  ----- \n",
      " 0   school      395 non-null    object\n",
      " 1   sex         395 non-null    object\n",
      " 2   age         395 non-null    int64 \n",
      " 3   address     395 non-null    object\n",
      " 4   famsize     395 non-null    object\n",
      " 5   Pstatus     395 non-null    object\n",
      " 6   Medu        395 non-null    int64 \n",
      " 7   Fedu        395 non-null    int64 \n",
      " 8   Mjob        395 non-null    object\n",
      " 9   Fjob        395 non-null    object\n",
      " 10  reason      395 non-null    object\n",
      " 11  guardian    395 non-null    object\n",
      " 12  traveltime  395 non-null    int64 \n",
      " 13  studytime   395 non-null    int64 \n",
      " 14  failures    395 non-null    int64 \n",
      " 15  schoolsup   395 non-null    object\n",
      " 16  famsup      395 non-null    object\n",
      " 17  paid        395 non-null    object\n",
      " 18  activities  395 non-null    object\n",
      " 19  nursery     395 non-null    object\n",
      " 20  higher      395 non-null    object\n",
      " 21  internet    395 non-null    object\n",
      " 22  romantic    395 non-null    object\n",
      " 23  famrel      395 non-null    int64 \n",
      " 24  freetime    395 non-null    int64 \n",
      " 25  goout       395 non-null    int64 \n",
      " 26  Dalc        395 non-null    int64 \n",
      " 27  Walc        395 non-null    int64 \n",
      " 28  health      395 non-null    int64 \n",
      " 29  absences    395 non-null    int64 \n",
      " 30  G1          395 non-null    int64 \n",
      " 31  G2          395 non-null    int64 \n",
      " 32  G3          395 non-null    int64 \n",
      "dtypes: int64(16), object(17)\n",
      "memory usage: 102.0+ KB\n"
     ]
    }
   ],
   "source": [
    "df.info()"
   ]
  },
  {
   "cell_type": "markdown",
   "id": "679e8b28",
   "metadata": {},
   "source": [
    "All data is non-null and is there and shape is (395,33)"
   ]
  },
  {
   "cell_type": "code",
   "execution_count": 5,
   "id": "cf4f83df",
   "metadata": {},
   "outputs": [
    {
     "data": {
      "text/html": [
       "<div>\n",
       "<style scoped>\n",
       "    .dataframe tbody tr th:only-of-type {\n",
       "        vertical-align: middle;\n",
       "    }\n",
       "\n",
       "    .dataframe tbody tr th {\n",
       "        vertical-align: top;\n",
       "    }\n",
       "\n",
       "    .dataframe thead th {\n",
       "        text-align: right;\n",
       "    }\n",
       "</style>\n",
       "<table border=\"1\" class=\"dataframe\">\n",
       "  <thead>\n",
       "    <tr style=\"text-align: right;\">\n",
       "      <th></th>\n",
       "      <th>school</th>\n",
       "      <th>sex</th>\n",
       "      <th>age</th>\n",
       "      <th>address</th>\n",
       "      <th>famsize</th>\n",
       "      <th>Pstatus</th>\n",
       "      <th>Medu</th>\n",
       "      <th>Fedu</th>\n",
       "      <th>Mjob</th>\n",
       "      <th>Fjob</th>\n",
       "      <th>...</th>\n",
       "      <th>famrel</th>\n",
       "      <th>freetime</th>\n",
       "      <th>goout</th>\n",
       "      <th>Dalc</th>\n",
       "      <th>Walc</th>\n",
       "      <th>health</th>\n",
       "      <th>absences</th>\n",
       "      <th>G1</th>\n",
       "      <th>G2</th>\n",
       "      <th>G3</th>\n",
       "    </tr>\n",
       "  </thead>\n",
       "  <tbody>\n",
       "    <tr>\n",
       "      <th>0</th>\n",
       "      <td>GP</td>\n",
       "      <td>F</td>\n",
       "      <td>18</td>\n",
       "      <td>U</td>\n",
       "      <td>GT3</td>\n",
       "      <td>A</td>\n",
       "      <td>4</td>\n",
       "      <td>4</td>\n",
       "      <td>at_home</td>\n",
       "      <td>teacher</td>\n",
       "      <td>...</td>\n",
       "      <td>4</td>\n",
       "      <td>3</td>\n",
       "      <td>4</td>\n",
       "      <td>1</td>\n",
       "      <td>1</td>\n",
       "      <td>3</td>\n",
       "      <td>6</td>\n",
       "      <td>5</td>\n",
       "      <td>6</td>\n",
       "      <td>6</td>\n",
       "    </tr>\n",
       "    <tr>\n",
       "      <th>1</th>\n",
       "      <td>GP</td>\n",
       "      <td>F</td>\n",
       "      <td>17</td>\n",
       "      <td>U</td>\n",
       "      <td>GT3</td>\n",
       "      <td>T</td>\n",
       "      <td>1</td>\n",
       "      <td>1</td>\n",
       "      <td>at_home</td>\n",
       "      <td>other</td>\n",
       "      <td>...</td>\n",
       "      <td>5</td>\n",
       "      <td>3</td>\n",
       "      <td>3</td>\n",
       "      <td>1</td>\n",
       "      <td>1</td>\n",
       "      <td>3</td>\n",
       "      <td>4</td>\n",
       "      <td>5</td>\n",
       "      <td>5</td>\n",
       "      <td>6</td>\n",
       "    </tr>\n",
       "    <tr>\n",
       "      <th>2</th>\n",
       "      <td>GP</td>\n",
       "      <td>F</td>\n",
       "      <td>15</td>\n",
       "      <td>U</td>\n",
       "      <td>LE3</td>\n",
       "      <td>T</td>\n",
       "      <td>1</td>\n",
       "      <td>1</td>\n",
       "      <td>at_home</td>\n",
       "      <td>other</td>\n",
       "      <td>...</td>\n",
       "      <td>4</td>\n",
       "      <td>3</td>\n",
       "      <td>2</td>\n",
       "      <td>2</td>\n",
       "      <td>3</td>\n",
       "      <td>3</td>\n",
       "      <td>10</td>\n",
       "      <td>7</td>\n",
       "      <td>8</td>\n",
       "      <td>10</td>\n",
       "    </tr>\n",
       "    <tr>\n",
       "      <th>3</th>\n",
       "      <td>GP</td>\n",
       "      <td>F</td>\n",
       "      <td>15</td>\n",
       "      <td>U</td>\n",
       "      <td>GT3</td>\n",
       "      <td>T</td>\n",
       "      <td>4</td>\n",
       "      <td>2</td>\n",
       "      <td>health</td>\n",
       "      <td>services</td>\n",
       "      <td>...</td>\n",
       "      <td>3</td>\n",
       "      <td>2</td>\n",
       "      <td>2</td>\n",
       "      <td>1</td>\n",
       "      <td>1</td>\n",
       "      <td>5</td>\n",
       "      <td>2</td>\n",
       "      <td>15</td>\n",
       "      <td>14</td>\n",
       "      <td>15</td>\n",
       "    </tr>\n",
       "    <tr>\n",
       "      <th>4</th>\n",
       "      <td>GP</td>\n",
       "      <td>F</td>\n",
       "      <td>16</td>\n",
       "      <td>U</td>\n",
       "      <td>GT3</td>\n",
       "      <td>T</td>\n",
       "      <td>3</td>\n",
       "      <td>3</td>\n",
       "      <td>other</td>\n",
       "      <td>other</td>\n",
       "      <td>...</td>\n",
       "      <td>4</td>\n",
       "      <td>3</td>\n",
       "      <td>2</td>\n",
       "      <td>1</td>\n",
       "      <td>2</td>\n",
       "      <td>5</td>\n",
       "      <td>4</td>\n",
       "      <td>6</td>\n",
       "      <td>10</td>\n",
       "      <td>10</td>\n",
       "    </tr>\n",
       "  </tbody>\n",
       "</table>\n",
       "<p>5 rows × 33 columns</p>\n",
       "</div>"
      ],
      "text/plain": [
       "  school sex  age address famsize Pstatus  Medu  Fedu     Mjob      Fjob  ...  \\\n",
       "0     GP   F   18       U     GT3       A     4     4  at_home   teacher  ...   \n",
       "1     GP   F   17       U     GT3       T     1     1  at_home     other  ...   \n",
       "2     GP   F   15       U     LE3       T     1     1  at_home     other  ...   \n",
       "3     GP   F   15       U     GT3       T     4     2   health  services  ...   \n",
       "4     GP   F   16       U     GT3       T     3     3    other     other  ...   \n",
       "\n",
       "  famrel freetime  goout  Dalc  Walc health absences  G1  G2  G3  \n",
       "0      4        3      4     1     1      3        6   5   6   6  \n",
       "1      5        3      3     1     1      3        4   5   5   6  \n",
       "2      4        3      2     2     3      3       10   7   8  10  \n",
       "3      3        2      2     1     1      5        2  15  14  15  \n",
       "4      4        3      2     1     2      5        4   6  10  10  \n",
       "\n",
       "[5 rows x 33 columns]"
      ]
     },
     "execution_count": 5,
     "metadata": {},
     "output_type": "execute_result"
    }
   ],
   "source": [
    "df.head()"
   ]
  },
  {
   "cell_type": "code",
<<<<<<< HEAD
   "execution_count": 21,
=======
   "execution_count": 6,
>>>>>>> 1e85f32b857a8d8a1f30dce672c51418c4fa08a3
   "id": "ed82f762",
   "metadata": {},
   "outputs": [
    {
     "data": {
      "text/plain": [
       "school             GP\n",
       "sex                 F\n",
       "age                18\n",
       "address             U\n",
       "famsize           GT3\n",
       "Pstatus             A\n",
       "Medu                4\n",
       "Fedu                4\n",
       "Mjob          at_home\n",
       "Fjob          teacher\n",
       "reason         course\n",
       "guardian       mother\n",
       "traveltime          2\n",
       "studytime           2\n",
       "failures            0\n",
       "schoolsup         yes\n",
       "famsup             no\n",
       "paid               no\n",
       "activities         no\n",
       "nursery           yes\n",
       "higher            yes\n",
       "internet           no\n",
       "romantic           no\n",
       "famrel              4\n",
       "freetime            3\n",
       "goout               4\n",
       "Dalc                1\n",
       "Walc                1\n",
       "health              3\n",
       "absences            6\n",
       "G1                  5\n",
       "G2                  6\n",
       "G3                  6\n",
       "Name: 0, dtype: object"
      ]
     },
<<<<<<< HEAD
     "execution_count": 21,
=======
     "execution_count": 6,
>>>>>>> 1e85f32b857a8d8a1f30dce672c51418c4fa08a3
     "metadata": {},
     "output_type": "execute_result"
    }
   ],
   "source": [
    "df.iloc[0]"
   ]
  },
  {
   "cell_type": "code",
<<<<<<< HEAD
   "execution_count": 22,
=======
   "execution_count": 7,
>>>>>>> 1e85f32b857a8d8a1f30dce672c51418c4fa08a3
   "id": "ab43cf7e",
   "metadata": {},
   "outputs": [
    {
     "data": {
      "text/html": [
       "<div>\n",
       "<style scoped>\n",
       "    .dataframe tbody tr th:only-of-type {\n",
       "        vertical-align: middle;\n",
       "    }\n",
       "\n",
       "    .dataframe tbody tr th {\n",
       "        vertical-align: top;\n",
       "    }\n",
       "\n",
       "    .dataframe thead th {\n",
       "        text-align: right;\n",
       "    }\n",
       "</style>\n",
       "<table border=\"1\" class=\"dataframe\">\n",
       "  <thead>\n",
       "    <tr style=\"text-align: right;\">\n",
       "      <th></th>\n",
       "      <th>count</th>\n",
       "      <th>mean</th>\n",
       "      <th>std</th>\n",
       "      <th>min</th>\n",
       "      <th>25%</th>\n",
       "      <th>50%</th>\n",
       "      <th>75%</th>\n",
       "      <th>max</th>\n",
       "    </tr>\n",
       "  </thead>\n",
       "  <tbody>\n",
       "    <tr>\n",
       "      <th>age</th>\n",
       "      <td>395.0</td>\n",
       "      <td>16.696203</td>\n",
       "      <td>1.276043</td>\n",
       "      <td>15.0</td>\n",
       "      <td>16.0</td>\n",
       "      <td>17.0</td>\n",
       "      <td>18.0</td>\n",
       "      <td>22.0</td>\n",
       "    </tr>\n",
       "    <tr>\n",
       "      <th>Medu</th>\n",
       "      <td>395.0</td>\n",
       "      <td>2.749367</td>\n",
       "      <td>1.094735</td>\n",
       "      <td>0.0</td>\n",
       "      <td>2.0</td>\n",
       "      <td>3.0</td>\n",
       "      <td>4.0</td>\n",
       "      <td>4.0</td>\n",
       "    </tr>\n",
       "    <tr>\n",
       "      <th>Fedu</th>\n",
       "      <td>395.0</td>\n",
       "      <td>2.521519</td>\n",
       "      <td>1.088201</td>\n",
       "      <td>0.0</td>\n",
       "      <td>2.0</td>\n",
       "      <td>2.0</td>\n",
       "      <td>3.0</td>\n",
       "      <td>4.0</td>\n",
       "    </tr>\n",
       "    <tr>\n",
       "      <th>traveltime</th>\n",
       "      <td>395.0</td>\n",
       "      <td>1.448101</td>\n",
       "      <td>0.697505</td>\n",
       "      <td>1.0</td>\n",
       "      <td>1.0</td>\n",
       "      <td>1.0</td>\n",
       "      <td>2.0</td>\n",
       "      <td>4.0</td>\n",
       "    </tr>\n",
       "    <tr>\n",
       "      <th>studytime</th>\n",
       "      <td>395.0</td>\n",
       "      <td>2.035443</td>\n",
       "      <td>0.839240</td>\n",
       "      <td>1.0</td>\n",
       "      <td>1.0</td>\n",
       "      <td>2.0</td>\n",
       "      <td>2.0</td>\n",
       "      <td>4.0</td>\n",
       "    </tr>\n",
       "    <tr>\n",
       "      <th>failures</th>\n",
       "      <td>395.0</td>\n",
       "      <td>0.334177</td>\n",
       "      <td>0.743651</td>\n",
       "      <td>0.0</td>\n",
       "      <td>0.0</td>\n",
       "      <td>0.0</td>\n",
       "      <td>0.0</td>\n",
       "      <td>3.0</td>\n",
       "    </tr>\n",
       "    <tr>\n",
       "      <th>famrel</th>\n",
       "      <td>395.0</td>\n",
       "      <td>3.944304</td>\n",
       "      <td>0.896659</td>\n",
       "      <td>1.0</td>\n",
       "      <td>4.0</td>\n",
       "      <td>4.0</td>\n",
       "      <td>5.0</td>\n",
       "      <td>5.0</td>\n",
       "    </tr>\n",
       "    <tr>\n",
       "      <th>freetime</th>\n",
       "      <td>395.0</td>\n",
       "      <td>3.235443</td>\n",
       "      <td>0.998862</td>\n",
       "      <td>1.0</td>\n",
       "      <td>3.0</td>\n",
       "      <td>3.0</td>\n",
       "      <td>4.0</td>\n",
       "      <td>5.0</td>\n",
       "    </tr>\n",
       "    <tr>\n",
       "      <th>goout</th>\n",
       "      <td>395.0</td>\n",
       "      <td>3.108861</td>\n",
       "      <td>1.113278</td>\n",
       "      <td>1.0</td>\n",
       "      <td>2.0</td>\n",
       "      <td>3.0</td>\n",
       "      <td>4.0</td>\n",
       "      <td>5.0</td>\n",
       "    </tr>\n",
       "    <tr>\n",
       "      <th>Dalc</th>\n",
       "      <td>395.0</td>\n",
       "      <td>1.481013</td>\n",
       "      <td>0.890741</td>\n",
       "      <td>1.0</td>\n",
       "      <td>1.0</td>\n",
       "      <td>1.0</td>\n",
       "      <td>2.0</td>\n",
       "      <td>5.0</td>\n",
       "    </tr>\n",
       "    <tr>\n",
       "      <th>Walc</th>\n",
       "      <td>395.0</td>\n",
       "      <td>2.291139</td>\n",
       "      <td>1.287897</td>\n",
       "      <td>1.0</td>\n",
       "      <td>1.0</td>\n",
       "      <td>2.0</td>\n",
       "      <td>3.0</td>\n",
       "      <td>5.0</td>\n",
       "    </tr>\n",
       "    <tr>\n",
       "      <th>health</th>\n",
       "      <td>395.0</td>\n",
       "      <td>3.554430</td>\n",
       "      <td>1.390303</td>\n",
       "      <td>1.0</td>\n",
       "      <td>3.0</td>\n",
       "      <td>4.0</td>\n",
       "      <td>5.0</td>\n",
       "      <td>5.0</td>\n",
       "    </tr>\n",
       "    <tr>\n",
       "      <th>absences</th>\n",
       "      <td>395.0</td>\n",
       "      <td>5.708861</td>\n",
       "      <td>8.003096</td>\n",
       "      <td>0.0</td>\n",
       "      <td>0.0</td>\n",
       "      <td>4.0</td>\n",
       "      <td>8.0</td>\n",
       "      <td>75.0</td>\n",
       "    </tr>\n",
       "    <tr>\n",
       "      <th>G1</th>\n",
       "      <td>395.0</td>\n",
       "      <td>10.908861</td>\n",
       "      <td>3.319195</td>\n",
       "      <td>3.0</td>\n",
       "      <td>8.0</td>\n",
       "      <td>11.0</td>\n",
       "      <td>13.0</td>\n",
       "      <td>19.0</td>\n",
       "    </tr>\n",
       "    <tr>\n",
       "      <th>G2</th>\n",
       "      <td>395.0</td>\n",
       "      <td>10.713924</td>\n",
       "      <td>3.761505</td>\n",
       "      <td>0.0</td>\n",
       "      <td>9.0</td>\n",
       "      <td>11.0</td>\n",
       "      <td>13.0</td>\n",
       "      <td>19.0</td>\n",
       "    </tr>\n",
       "    <tr>\n",
       "      <th>G3</th>\n",
       "      <td>395.0</td>\n",
       "      <td>10.415190</td>\n",
       "      <td>4.581443</td>\n",
       "      <td>0.0</td>\n",
       "      <td>8.0</td>\n",
       "      <td>11.0</td>\n",
       "      <td>14.0</td>\n",
       "      <td>20.0</td>\n",
       "    </tr>\n",
       "  </tbody>\n",
       "</table>\n",
       "</div>"
      ],
      "text/plain": [
       "            count       mean       std   min   25%   50%   75%   max\n",
       "age         395.0  16.696203  1.276043  15.0  16.0  17.0  18.0  22.0\n",
       "Medu        395.0   2.749367  1.094735   0.0   2.0   3.0   4.0   4.0\n",
       "Fedu        395.0   2.521519  1.088201   0.0   2.0   2.0   3.0   4.0\n",
       "traveltime  395.0   1.448101  0.697505   1.0   1.0   1.0   2.0   4.0\n",
       "studytime   395.0   2.035443  0.839240   1.0   1.0   2.0   2.0   4.0\n",
       "failures    395.0   0.334177  0.743651   0.0   0.0   0.0   0.0   3.0\n",
       "famrel      395.0   3.944304  0.896659   1.0   4.0   4.0   5.0   5.0\n",
       "freetime    395.0   3.235443  0.998862   1.0   3.0   3.0   4.0   5.0\n",
       "goout       395.0   3.108861  1.113278   1.0   2.0   3.0   4.0   5.0\n",
       "Dalc        395.0   1.481013  0.890741   1.0   1.0   1.0   2.0   5.0\n",
       "Walc        395.0   2.291139  1.287897   1.0   1.0   2.0   3.0   5.0\n",
       "health      395.0   3.554430  1.390303   1.0   3.0   4.0   5.0   5.0\n",
       "absences    395.0   5.708861  8.003096   0.0   0.0   4.0   8.0  75.0\n",
       "G1          395.0  10.908861  3.319195   3.0   8.0  11.0  13.0  19.0\n",
       "G2          395.0  10.713924  3.761505   0.0   9.0  11.0  13.0  19.0\n",
       "G3          395.0  10.415190  4.581443   0.0   8.0  11.0  14.0  20.0"
      ]
     },
<<<<<<< HEAD
     "execution_count": 22,
=======
     "execution_count": 7,
>>>>>>> 1e85f32b857a8d8a1f30dce672c51418c4fa08a3
     "metadata": {},
     "output_type": "execute_result"
    }
   ],
   "source": [
    "df.describe().T"
   ]
  },
  {
   "cell_type": "code",
   "execution_count": 10,
   "id": "ddc03bd1",
   "metadata": {},
   "outputs": [
    {
     "data": {
      "text/plain": [
       "<seaborn.axisgrid.PairGrid at 0x22734fdade0>"
      ]
     },
     "execution_count": 10,
     "metadata": {},
     "output_type": "execute_result"
    },
    {
     "data": {
      "image/png": "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",
      "text/plain": [
       "<Figure size 750x750 with 12 Axes>"
      ]
     },
     "metadata": {},
     "output_type": "display_data"
    }
   ],
   "source": [
    "cols = ['age', 'traveltime', 'studytime', ]\n",
    "sns.pairplot(data=df[cols])"
   ]
  },
  {
   "cell_type": "markdown",
   "id": "2c5b5691",
   "metadata": {},
   "source": [
    "Here we can read relevant data to our questions for comparing grades we can mean of 'G1', 'G2', 'G3':\n",
    "##### 1. Do students that travel longer to school do better at school and consume less alchohol?\n",
    "Lets compare 'traveltime' (1-4) with alchohol consumption. lets mean the alchohol consumption into one column to compare the two (1-5).\n",
    "##### 2. Do students with lower_edu/poorer parents do worse or better at school and consume less alchohol?\n",
    "To answer question two lets make a scale in a seperate row of how rich/poor the parents are, we can take the sum of these columns for this scale: 'Medu', 'Fedu' (0-4)\n",
    "##### 3. Do students that have a romantic relationship do worse at school?\n",
    "We can compare 'romantic' column (yes/no) with the grades\n",
    "##### 4. Does student school absence equal worse grades?\n",
    "We can compare 'absences' (0-93) with grades\n",
    "##### 5. Does family size influence school grades and alchohol consumption?\n",
    "We can compare 'famsize' ('LE3' - less than three or 'GT3' - greater than 3)\n",
    "##### 6. Do gifted kids (low study hours high grades) do better at school than hard working students (high study hours, high grades)\n",
    "Lets compare these two in a lineplot\n"
<<<<<<< HEAD
   ]
  },
  {
   "cell_type": "code",
   "execution_count": 23,
   "id": "f04e941b",
   "metadata": {},
   "outputs": [
    {
     "data": {
      "text/plain": [
       "<Axes: xlabel='traveltime', ylabel='count'>"
      ]
     },
     "execution_count": 23,
     "metadata": {},
     "output_type": "execute_result"
    },
    {
     "data": {
      "image/png": "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",
      "text/plain": [
       "<Figure size 600x400 with 1 Axes>"
      ]
     },
     "metadata": {},
     "output_type": "display_data"
    }
   ],
   "source": [
    "sns.countplot(x='traveltime', data=df)"
   ]
  },
  {
   "cell_type": "markdown",
   "id": "4f3172f7",
   "metadata": {},
   "source": [
    "Okay we see that a lot of students take <15 minutes to go to school and only a few that take less than an hour"
   ]
  },
  {
   "cell_type": "code",
   "execution_count": 28,
   "id": "5a1ca808",
   "metadata": {},
   "outputs": [],
   "source": [
    "df['grade_mean'] = df[['G1', 'G2', 'G2']].mean(axis=1)"
   ]
  },
  {
   "cell_type": "code",
   "execution_count": 29,
   "id": "9523e178",
   "metadata": {},
   "outputs": [
    {
     "data": {
      "text/plain": [
       "<Axes: xlabel='Dalc', ylabel='grade_mean'>"
      ]
     },
     "execution_count": 29,
     "metadata": {},
     "output_type": "execute_result"
    },
    {
     "data": {
      "image/png": "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",
      "text/plain": [
       "<Figure size 600x400 with 1 Axes>"
      ]
     },
     "metadata": {},
     "output_type": "display_data"
    }
   ],
   "source": [
    "sns.boxplot(x='Dalc', y='grade_mean', data=df)"
   ]
  },
  {
   "cell_type": "markdown",
   "id": "1393b6eb",
   "metadata": {},
   "source": [
    "We can see that it barely influeces it"
   ]
  },
  {
   "cell_type": "code",
   "execution_count": 30,
   "id": "21b63279",
   "metadata": {},
   "outputs": [
    {
     "data": {
      "text/plain": [
       "<Axes: xlabel='Walc', ylabel='grade_mean'>"
      ]
     },
     "execution_count": 30,
     "metadata": {},
     "output_type": "execute_result"
    },
    {
     "data": {
      "image/png": "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",
      "text/plain": [
       "<Figure size 600x400 with 1 Axes>"
      ]
     },
     "metadata": {},
     "output_type": "display_data"
    }
   ],
   "source": [
    "sns.boxplot(x='Walc', y='grade_mean', data=df)"
   ]
  },
  {
   "cell_type": "markdown",
   "id": "970e7966",
   "metadata": {},
   "source": [
    "its still a small difference but we can clearly see that if you drink during weekends you can still get good grades but heavy drinkers during weekdays dont fall in high grades though the average is almost the same"
=======
>>>>>>> 1e85f32b857a8d8a1f30dce672c51418c4fa08a3
   ]
  }
 ],
 "metadata": {
  "kernelspec": {
   "display_name": "Python 3",
   "language": "python",
   "name": "python3"
  },
  "language_info": {
   "codemirror_mode": {
    "name": "ipython",
    "version": 3
   },
   "file_extension": ".py",
   "mimetype": "text/x-python",
   "name": "python",
   "nbconvert_exporter": "python",
   "pygments_lexer": "ipython3",
   "version": "3.12.6"
  }
 },
 "nbformat": 4,
 "nbformat_minor": 5
}
