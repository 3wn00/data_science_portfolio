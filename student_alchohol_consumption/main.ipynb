{
 "cells": [
  {
   "cell_type": "markdown",
   "id": "8cc8f872",
   "metadata": {},
   "source": [
    "# Student alcohol consumption EDA\n",
    "- Some exploratory data analysis to find out if socio-economic, bad choises and other factors influence school grades from this gold [kaggle-data-set](https://www.kaggle.com/datasets/uciml/student-alcohol-consumption)\n",
    "---\n",
    "Lets start with importing"
   ]
  },
  {
   "cell_type": "code",
   "execution_count": 1,
   "id": "9b2fa1f8",
   "metadata": {},
   "outputs": [],
   "source": [
    "import numpy as np\n",
    "import pandas as np"
   ]
  },
  {
   "cell_type": "code",
   "execution_count": 6,
   "id": "200716cb",
   "metadata": {},
   "outputs": [],
   "source": [
    "import matplotlib.pyplot as plt\n",
    "import seaborn as sns\n",
    "%matplotlib inline\n",
    "\n",
    "sns.set_style('whitegrid')\n",
    "\n",
    "plt.rcParams['figure.figsize'] = (6, 4)\n"
   ]
  }
 ],
 "metadata": {
  "kernelspec": {
   "display_name": "Python 3",
   "language": "python",
   "name": "python3"
  },
  "language_info": {
   "codemirror_mode": {
    "name": "ipython",
    "version": 3
   },
   "file_extension": ".py",
   "mimetype": "text/x-python",
   "name": "python",
   "nbconvert_exporter": "python",
   "pygments_lexer": "ipython3",
   "version": "3.12.6"
  }
 },
 "nbformat": 4,
 "nbformat_minor": 5
}
